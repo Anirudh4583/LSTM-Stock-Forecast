{
  "nbformat": 4,
  "nbformat_minor": 0,
  "metadata": {
    "colab": {
      "name": "stock_prediction_1.ipynb",
      "provenance": [],
      "collapsed_sections": []
    },
    "kernelspec": {
      "name": "python3",
      "display_name": "Python 3"
    },
    "language_info": {
      "name": "python"
    }
  },
  "cells": [
    {
      "cell_type": "markdown",
      "source": [
        "## Stock Prediction Using Neural Network"
      ],
      "metadata": {
        "id": "zMjOc7TEedKr"
      }
    },
    {
      "cell_type": "markdown",
      "source": [
        "Required Libraries"
      ],
      "metadata": {
        "id": "QGM2FkoujQQT"
      }
    },
    {
      "cell_type": "code",
      "execution_count": null,
      "metadata": {
        "id": "rE3kcCO_drFc"
      },
      "outputs": [],
      "source": [
        "# mount drive using PyDrive\n",
        "!pip install -U -q PyDrive\n",
        "from pydrive.auth import GoogleAuth\n",
        "from pydrive.drive import GoogleDrive\n",
        "from google.colab import auth\n",
        "from oauth2client.client import GoogleCredentials"
      ]
    },
    {
      "cell_type": "code",
      "source": [
        "import pandas as pd\n",
        "import numpy as np\n",
        "import matplotlib.pyplot as plt\n",
        "%matplotlib inline\n",
        "\n",
        "!pip install mxnet\n",
        "import mxnet as mx\n",
        "import xgboost as xgb\n",
        "\n",
        "import math\n",
        "import datetime\n",
        "\n",
        "from sklearn.preprocessing import MinMaxScaler\n",
        "from sklearn.metrics import mean_squared_error"
      ],
      "metadata": {
        "colab": {
          "base_uri": "https://localhost:8080/"
        },
        "id": "fYlUPNArjYwP",
        "outputId": "33ff3976-6075-4637-9441-38a99c057c6a"
      },
      "execution_count": null,
      "outputs": [
        {
          "output_type": "stream",
          "name": "stdout",
          "text": [
            "Requirement already satisfied: mxnet in /usr/local/lib/python3.7/dist-packages (1.9.0)\n",
            "Requirement already satisfied: numpy<2.0.0,>1.16.0 in /usr/local/lib/python3.7/dist-packages (from mxnet) (1.21.6)\n",
            "Requirement already satisfied: requests<3,>=2.20.0 in /usr/local/lib/python3.7/dist-packages (from mxnet) (2.23.0)\n",
            "Requirement already satisfied: graphviz<0.9.0,>=0.8.1 in /usr/local/lib/python3.7/dist-packages (from mxnet) (0.8.4)\n",
            "Requirement already satisfied: urllib3!=1.25.0,!=1.25.1,<1.26,>=1.21.1 in /usr/local/lib/python3.7/dist-packages (from requests<3,>=2.20.0->mxnet) (1.24.3)\n",
            "Requirement already satisfied: idna<3,>=2.5 in /usr/local/lib/python3.7/dist-packages (from requests<3,>=2.20.0->mxnet) (2.10)\n",
            "Requirement already satisfied: chardet<4,>=3.0.2 in /usr/local/lib/python3.7/dist-packages (from requests<3,>=2.20.0->mxnet) (3.0.4)\n",
            "Requirement already satisfied: certifi>=2017.4.17 in /usr/local/lib/python3.7/dist-packages (from requests<3,>=2.20.0->mxnet) (2021.10.8)\n"
          ]
        }
      ]
    },
    {
      "cell_type": "markdown",
      "source": [
        "## Drive Mount "
      ],
      "metadata": {
        "id": "xgcXtu1pe5e1"
      }
    },
    {
      "cell_type": "code",
      "source": [
        "# Authenticate and create the PyDrive client.\n",
        "auth.authenticate_user()\n",
        "gauth = GoogleAuth()\n",
        "gauth.credentials = GoogleCredentials.get_application_default()\n",
        "drive = GoogleDrive(gauth)"
      ],
      "metadata": {
        "id": "_ZkDh4UWeal5"
      },
      "execution_count": null,
      "outputs": []
    },
    {
      "cell_type": "code",
      "source": [
        "data_link = \"https://drive.google.com/open?id=1d-IDdUaik2iNVsFT99wrKzFZ-PUEdzPG\"\n",
        "_, id = data_link.split('?id=')\n",
        "print(id)\n",
        "\n",
        "# Create google drive file bject using id retrieved from the link\n",
        "file = drive.CreateFile({'id': id})\n",
        "file.GetContentFile(\"ADANIPOWER.BO.csv\")\n",
        "print(file)"
      ],
      "metadata": {
        "id": "x1KoYIOvfFSX",
        "colab": {
          "base_uri": "https://localhost:8080/"
        },
        "outputId": "379cd357-4dee-47ee-9b30-1f102c418001"
      },
      "execution_count": null,
      "outputs": [
        {
          "output_type": "stream",
          "name": "stdout",
          "text": [
            "1d-IDdUaik2iNVsFT99wrKzFZ-PUEdzPG\n",
            "GoogleDriveFile({'id': '1d-IDdUaik2iNVsFT99wrKzFZ-PUEdzPG', 'kind': 'drive#file', 'etag': '\"MTY1MDU3MDI3MzYyNg\"', 'selfLink': 'https://www.googleapis.com/drive/v2/files/1d-IDdUaik2iNVsFT99wrKzFZ-PUEdzPG', 'webContentLink': 'https://drive.google.com/uc?id=1d-IDdUaik2iNVsFT99wrKzFZ-PUEdzPG&export=download', 'alternateLink': 'https://drive.google.com/file/d/1d-IDdUaik2iNVsFT99wrKzFZ-PUEdzPG/view?usp=drivesdk', 'embedLink': 'https://drive.google.com/file/d/1d-IDdUaik2iNVsFT99wrKzFZ-PUEdzPG/preview?usp=drivesdk', 'iconLink': 'https://drive-thirdparty.googleusercontent.com/16/type/text/csv', 'title': 'ADANIPOWER.BO.csv', 'mimeType': 'text/csv', 'labels': {'starred': False, 'hidden': False, 'trashed': False, 'restricted': False, 'viewed': True}, 'copyRequiresWriterPermission': False, 'createdDate': '2022-04-21T19:09:12.433Z', 'modifiedDate': '2022-04-21T19:44:33.626Z', 'modifiedByMeDate': '2022-04-21T19:44:33.626Z', 'lastViewedByMeDate': '2022-04-21T19:44:33.626Z', 'markedViewedByMeDate': '1970-01-01T00:00:00.000Z', 'version': '12', 'parents': [{'kind': 'drive#parentReference', 'id': '0AKLI0jShCf5lUk9PVA', 'selfLink': 'https://www.googleapis.com/drive/v2/files/1d-IDdUaik2iNVsFT99wrKzFZ-PUEdzPG/parents/0AKLI0jShCf5lUk9PVA', 'parentLink': 'https://www.googleapis.com/drive/v2/files/0AKLI0jShCf5lUk9PVA', 'isRoot': True}], 'downloadUrl': 'https://www.googleapis.com/drive/v2/files/1d-IDdUaik2iNVsFT99wrKzFZ-PUEdzPG?alt=media&source=downloadUrl', 'userPermission': {'kind': 'drive#permission', 'etag': '\"1-Xxh8mubX-6E_znrp9Ne013m7s\"', 'id': 'me', 'selfLink': 'https://www.googleapis.com/drive/v2/files/1d-IDdUaik2iNVsFT99wrKzFZ-PUEdzPG/permissions/me', 'role': 'owner', 'type': 'user', 'pendingOwner': False}, 'originalFilename': 'ADANIPOWER.BO.csv', 'fileExtension': 'csv', 'md5Checksum': '2e8aa2d31f248cb38ddb2a05529e3c3d', 'fileSize': '216852', 'quotaBytesUsed': '320386', 'ownerNames': ['Dev Loopers'], 'owners': [{'kind': 'drive#user', 'displayName': 'Dev Loopers', 'picture': {'url': 'https://lh3.googleusercontent.com/a-/AOh14GgO9LjNs5fZQKXWLcfiKIS5mhJaY0S8qpv0_kch=s64'}, 'isAuthenticatedUser': True, 'permissionId': '14055750234419489499', 'emailAddress': 'devlupper@gmail.com'}], 'lastModifyingUserName': 'Dev Loopers', 'lastModifyingUser': {'kind': 'drive#user', 'displayName': 'Dev Loopers', 'picture': {'url': 'https://lh3.googleusercontent.com/a-/AOh14GgO9LjNs5fZQKXWLcfiKIS5mhJaY0S8qpv0_kch=s64'}, 'isAuthenticatedUser': True, 'permissionId': '14055750234419489499', 'emailAddress': 'devlupper@gmail.com'}, 'capabilities': {'canCopy': True, 'canEdit': True}, 'editable': True, 'copyable': True, 'writersCanShare': True, 'shared': True, 'explicitlyTrashed': False, 'appDataContents': False, 'headRevisionId': '0B6LI0jShCf5lZVpETjNtNm9KWSt6bjYzcU43SVE2N3QxWmFRPQ', 'spaces': ['drive']})\n"
          ]
        }
      ]
    },
    {
      "cell_type": "code",
      "source": [
        "# date parser function\n",
        "def date_parser(date):\n",
        "  return datetime.datetime.strptime(date, '%Y-%m-%d')"
      ],
      "metadata": {
        "id": "V9a-cJpwnVi0"
      },
      "execution_count": null,
      "outputs": []
    },
    {
      "cell_type": "code",
      "source": [
        "df = pd.read_csv(\"ADANIPOWER.BO.csv\", header=0, parse_dates=[0], date_parser=date_parser)\n",
        "df.head()"
      ],
      "metadata": {
        "colab": {
          "base_uri": "https://localhost:8080/",
          "height": 250
        },
        "id": "KFEVT9EZinyA",
        "outputId": "af1e0499-9c0f-446c-b9a7-0fcc29c31f29"
      },
      "execution_count": null,
      "outputs": [
        {
          "output_type": "execute_result",
          "data": {
            "text/plain": [
              "        Date        Open        High         Low       Close   Adj Close  \\\n",
              "0 2009-08-20  105.000000  107.900002   98.500000  100.050003  100.050003   \n",
              "1 2009-08-21   99.400002  103.900002   98.500000  103.199997  103.199997   \n",
              "2 2009-08-24  104.599998  104.599998  101.650002  103.050003  103.050003   \n",
              "3 2009-08-25  101.099998  103.099998  101.000000  102.599998  102.599998   \n",
              "4 2009-08-26  102.599998  107.150002  102.599998  105.099998  105.099998   \n",
              "\n",
              "       Volume  \n",
              "0  96423800.0  \n",
              "1  19475100.0  \n",
              "2   7606000.0  \n",
              "3   4877400.0  \n",
              "4  10904200.0  "
            ],
            "text/html": [
              "\n",
              "  <div id=\"df-fe587bc3-b419-43bd-89d2-00f5bd08ceb1\">\n",
              "    <div class=\"colab-df-container\">\n",
              "      <div>\n",
              "<style scoped>\n",
              "    .dataframe tbody tr th:only-of-type {\n",
              "        vertical-align: middle;\n",
              "    }\n",
              "\n",
              "    .dataframe tbody tr th {\n",
              "        vertical-align: top;\n",
              "    }\n",
              "\n",
              "    .dataframe thead th {\n",
              "        text-align: right;\n",
              "    }\n",
              "</style>\n",
              "<table border=\"1\" class=\"dataframe\">\n",
              "  <thead>\n",
              "    <tr style=\"text-align: right;\">\n",
              "      <th></th>\n",
              "      <th>Date</th>\n",
              "      <th>Open</th>\n",
              "      <th>High</th>\n",
              "      <th>Low</th>\n",
              "      <th>Close</th>\n",
              "      <th>Adj Close</th>\n",
              "      <th>Volume</th>\n",
              "    </tr>\n",
              "  </thead>\n",
              "  <tbody>\n",
              "    <tr>\n",
              "      <th>0</th>\n",
              "      <td>2009-08-20</td>\n",
              "      <td>105.000000</td>\n",
              "      <td>107.900002</td>\n",
              "      <td>98.500000</td>\n",
              "      <td>100.050003</td>\n",
              "      <td>100.050003</td>\n",
              "      <td>96423800.0</td>\n",
              "    </tr>\n",
              "    <tr>\n",
              "      <th>1</th>\n",
              "      <td>2009-08-21</td>\n",
              "      <td>99.400002</td>\n",
              "      <td>103.900002</td>\n",
              "      <td>98.500000</td>\n",
              "      <td>103.199997</td>\n",
              "      <td>103.199997</td>\n",
              "      <td>19475100.0</td>\n",
              "    </tr>\n",
              "    <tr>\n",
              "      <th>2</th>\n",
              "      <td>2009-08-24</td>\n",
              "      <td>104.599998</td>\n",
              "      <td>104.599998</td>\n",
              "      <td>101.650002</td>\n",
              "      <td>103.050003</td>\n",
              "      <td>103.050003</td>\n",
              "      <td>7606000.0</td>\n",
              "    </tr>\n",
              "    <tr>\n",
              "      <th>3</th>\n",
              "      <td>2009-08-25</td>\n",
              "      <td>101.099998</td>\n",
              "      <td>103.099998</td>\n",
              "      <td>101.000000</td>\n",
              "      <td>102.599998</td>\n",
              "      <td>102.599998</td>\n",
              "      <td>4877400.0</td>\n",
              "    </tr>\n",
              "    <tr>\n",
              "      <th>4</th>\n",
              "      <td>2009-08-26</td>\n",
              "      <td>102.599998</td>\n",
              "      <td>107.150002</td>\n",
              "      <td>102.599998</td>\n",
              "      <td>105.099998</td>\n",
              "      <td>105.099998</td>\n",
              "      <td>10904200.0</td>\n",
              "    </tr>\n",
              "  </tbody>\n",
              "</table>\n",
              "</div>\n",
              "      <button class=\"colab-df-convert\" onclick=\"convertToInteractive('df-fe587bc3-b419-43bd-89d2-00f5bd08ceb1')\"\n",
              "              title=\"Convert this dataframe to an interactive table.\"\n",
              "              style=\"display:none;\">\n",
              "        \n",
              "  <svg xmlns=\"http://www.w3.org/2000/svg\" height=\"24px\"viewBox=\"0 0 24 24\"\n",
              "       width=\"24px\">\n",
              "    <path d=\"M0 0h24v24H0V0z\" fill=\"none\"/>\n",
              "    <path d=\"M18.56 5.44l.94 2.06.94-2.06 2.06-.94-2.06-.94-.94-2.06-.94 2.06-2.06.94zm-11 1L8.5 8.5l.94-2.06 2.06-.94-2.06-.94L8.5 2.5l-.94 2.06-2.06.94zm10 10l.94 2.06.94-2.06 2.06-.94-2.06-.94-.94-2.06-.94 2.06-2.06.94z\"/><path d=\"M17.41 7.96l-1.37-1.37c-.4-.4-.92-.59-1.43-.59-.52 0-1.04.2-1.43.59L10.3 9.45l-7.72 7.72c-.78.78-.78 2.05 0 2.83L4 21.41c.39.39.9.59 1.41.59.51 0 1.02-.2 1.41-.59l7.78-7.78 2.81-2.81c.8-.78.8-2.07 0-2.86zM5.41 20L4 18.59l7.72-7.72 1.47 1.35L5.41 20z\"/>\n",
              "  </svg>\n",
              "      </button>\n",
              "      \n",
              "  <style>\n",
              "    .colab-df-container {\n",
              "      display:flex;\n",
              "      flex-wrap:wrap;\n",
              "      gap: 12px;\n",
              "    }\n",
              "\n",
              "    .colab-df-convert {\n",
              "      background-color: #E8F0FE;\n",
              "      border: none;\n",
              "      border-radius: 50%;\n",
              "      cursor: pointer;\n",
              "      display: none;\n",
              "      fill: #1967D2;\n",
              "      height: 32px;\n",
              "      padding: 0 0 0 0;\n",
              "      width: 32px;\n",
              "    }\n",
              "\n",
              "    .colab-df-convert:hover {\n",
              "      background-color: #E2EBFA;\n",
              "      box-shadow: 0px 1px 2px rgba(60, 64, 67, 0.3), 0px 1px 3px 1px rgba(60, 64, 67, 0.15);\n",
              "      fill: #174EA6;\n",
              "    }\n",
              "\n",
              "    [theme=dark] .colab-df-convert {\n",
              "      background-color: #3B4455;\n",
              "      fill: #D2E3FC;\n",
              "    }\n",
              "\n",
              "    [theme=dark] .colab-df-convert:hover {\n",
              "      background-color: #434B5C;\n",
              "      box-shadow: 0px 1px 3px 1px rgba(0, 0, 0, 0.15);\n",
              "      filter: drop-shadow(0px 1px 2px rgba(0, 0, 0, 0.3));\n",
              "      fill: #FFFFFF;\n",
              "    }\n",
              "  </style>\n",
              "\n",
              "      <script>\n",
              "        const buttonEl =\n",
              "          document.querySelector('#df-fe587bc3-b419-43bd-89d2-00f5bd08ceb1 button.colab-df-convert');\n",
              "        buttonEl.style.display =\n",
              "          google.colab.kernel.accessAllowed ? 'block' : 'none';\n",
              "\n",
              "        async function convertToInteractive(key) {\n",
              "          const element = document.querySelector('#df-fe587bc3-b419-43bd-89d2-00f5bd08ceb1');\n",
              "          const dataTable =\n",
              "            await google.colab.kernel.invokeFunction('convertToInteractive',\n",
              "                                                     [key], {});\n",
              "          if (!dataTable) return;\n",
              "\n",
              "          const docLinkHtml = 'Like what you see? Visit the ' +\n",
              "            '<a target=\"_blank\" href=https://colab.research.google.com/notebooks/data_table.ipynb>data table notebook</a>'\n",
              "            + ' to learn more about interactive tables.';\n",
              "          element.innerHTML = '';\n",
              "          dataTable['output_type'] = 'display_data';\n",
              "          await google.colab.output.renderOutput(dataTable, element);\n",
              "          const docLink = document.createElement('div');\n",
              "          docLink.innerHTML = docLinkHtml;\n",
              "          element.appendChild(docLink);\n",
              "        }\n",
              "      </script>\n",
              "    </div>\n",
              "  </div>\n",
              "  "
            ]
          },
          "metadata": {},
          "execution_count": 7
        }
      ]
    },
    {
      "cell_type": "code",
      "source": [
        "# number of days and features\n",
        "df.shape[0], df.shape[1]"
      ],
      "metadata": {
        "colab": {
          "base_uri": "https://localhost:8080/"
        },
        "id": "ovzRB70Zlbm1",
        "outputId": "924025cc-26c7-40d0-8d5b-2e4b8d95ca9a"
      },
      "execution_count": null,
      "outputs": [
        {
          "output_type": "execute_result",
          "data": {
            "text/plain": [
              "(3131, 7)"
            ]
          },
          "metadata": {},
          "execution_count": 8
        }
      ]
    },
    {
      "cell_type": "code",
      "source": [
        "# plotting Date vs Close Price\n",
        "plt.figure(figsize=(12, 4), dpi=100)\n",
        "plt.plot(df['Date'], df['Close'])\n",
        "plt.title('Adani Power Stock Prices')\n",
        "\n",
        "# plotting relative maximas\n",
        "from scipy.signal import argrelextrema\n",
        "df_arr_date = df['Date'].to_numpy()\n",
        "df_arr_close = df['Close'].to_numpy()\n",
        "# type(df['Close'])\n",
        "c_max_index = argrelextrema(df_arr_close, np.greater, order=30)\n",
        "plt.scatter(df_arr_date[c_max_index[0]], df_arr_close[c_max_index[0]], c='r')\n",
        "\n",
        "plt.show()"
      ],
      "metadata": {
        "colab": {
          "base_uri": "https://localhost:8080/",
          "height": 258
        },
        "id": "SMqS5hDxpDTi",
        "outputId": "7bfee623-82ba-4073-b6a0-cd035db36463"
      },
      "execution_count": null,
      "outputs": [
        {
          "output_type": "display_data",
          "data": {
            "text/plain": [
              "<Figure size 1200x400 with 1 Axes>"
            ],
            "image/png": "[encoded data removed]"
          },
          "metadata": {
            "needs_background": "light"
          }
        }
      ]
    },
    {
      "cell_type": "markdown",
      "source": [
        "Following points acan be devised from the above graph:\n",
        "- prices were low around 2012-2018\n",
        "- spikes: \n",
        "  1. "
      ],
      "metadata": {
        "id": "gmJNU0bAgMmO"
      }
    },
    {
      "cell_type": "markdown",
      "source": [
        "**Generating Features**\n",
        "\n",
        "Features that can be used as indicators:\n",
        "1. Moving Average & Exponential MA: weekly and monthly\n",
        "2. Momentum Indicator\n",
        "3. Bollinger Bands"
      ],
      "metadata": {
        "id": "pA_jG3RRnhX3"
      }
    },
    {
      "cell_type": "code",
      "source": [
        "# indicators generator function that takes dataset as input and adds indicator columns\n",
        "def generate_indicators(df):\n",
        "  # Moving Average:\n",
        "    # weekly moving average\n",
        "  df['ma_w'] = df['Close'].rolling(window=7).mean()\n",
        "    # monthly moving average\n",
        "  df['ma_m'] = df['Close'].rolling(window=30).mean()\n",
        "\n",
        "  # Bollinger Bands:\n",
        "\n",
        "  # Exponential Moving Average:\n",
        "\n",
        "  # Momentum:\n",
        "\n",
        "  return df"
      ],
      "metadata": {
        "id": "yUwKr4_yqHiD"
      },
      "execution_count": null,
      "outputs": []
    }
  ]
}